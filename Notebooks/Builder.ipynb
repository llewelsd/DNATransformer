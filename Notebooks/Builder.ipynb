{
 "cells": [
  {
   "cell_type": "markdown",
   "metadata": {},
   "source": [
    "This notebook runs the nupack simulation on provided sequences"
   ]
  },
  {
   "cell_type": "markdown",
   "metadata": {},
   "source": [
    "### Imports"
   ]
  },
  {
   "cell_type": "code",
   "execution_count": null,
   "metadata": {
    "ExecuteTime": {
     "end_time": "2020-12-21T05:57:52.325853Z",
     "start_time": "2020-12-21T05:57:52.243066Z"
    }
   },
   "outputs": [],
   "source": [
    "import os\n",
    "import subprocess as sub\n",
    "import numpy as np"
   ]
  },
  {
   "cell_type": "markdown",
   "metadata": {},
   "source": [
    "### Functions"
   ]
  },
  {
   "cell_type": "code",
   "execution_count": null,
   "metadata": {
    "ExecuteTime": {
     "end_time": "2020-12-21T06:33:50.094667Z",
     "start_time": "2020-12-21T06:33:50.089785Z"
    }
   },
   "outputs": [],
   "source": [
    "def generate_dna(length,number,seed,filename):\n",
    "    command = ['java','-jar','DNAG.jar','DNAGenerator','-dna',\n",
    "               '-o',filename,\n",
    "              '-s',str(seed),\n",
    "              str(length),\n",
    "              str(number)]\n",
    "    p = sub.Popen(command,stdin=sub.PIPE,stdout=sub.PIPE,stderr=sub.PIPE)\n",
    "    output,error = p.communicate()\n",
    "    if len(error) == 0:\n",
    "        return True,error\n",
    "    else:\n",
    "        return False,error"
   ]
  },
  {
   "cell_type": "code",
   "execution_count": null,
   "metadata": {
    "ExecuteTime": {
     "end_time": "2020-12-21T06:48:08.405579Z",
     "start_time": "2020-12-21T06:48:08.401582Z"
    }
   },
   "outputs": [],
   "source": [
    "def nupack_spark(filename,mfe,pairs,prob,output):\n",
    "    command = ['spark-submit',\n",
    "              '--class','NupackSim',\n",
    "              '--master','local[*]',\n",
    "              'nps.jar']\n",
    "    if mfe:\n",
    "        command.append('-mfe')\n",
    "    if pairs:\n",
    "        command.append('-pp')\n",
    "    if prob:\n",
    "        command.append('-pr')\n",
    "    command.append(output)\n",
    "    command.append('-i')\n",
    "    command.append(filename)\n",
    "    command.append('-o')\n",
    "    command.append(output)\n",
    "    p = sub.Popen(command,stdin=sub.PIPE,stdout=sub.PIPE,stderr=sub.PIPE)\n",
    "    output,error = p.communicate()\n",
    "    print(error)\n",
    "    # due to nature of spark, checking error is meaningless. \n",
    "    # note, may take a while to run depending on input and settings"
   ]
  },
  {
   "cell_type": "markdown",
   "metadata": {},
   "source": [
    "### Main"
   ]
  },
  {
   "cell_type": "markdown",
   "metadata": {},
   "source": [
    "Generate a file containing random sequences of DNA"
   ]
  },
  {
   "cell_type": "code",
   "execution_count": null,
   "metadata": {
    "ExecuteTime": {
     "end_time": "2020-12-21T06:00:17.862784Z",
     "start_time": "2020-12-21T06:00:17.858877Z"
    }
   },
   "outputs": [],
   "source": [
    "n = 32 # length of each sequence\n",
    "l = 100000 # number of sequences\n",
    "s = 42 # RNG seed\n",
    "\n",
    "filename = 'dna_small.txt'"
   ]
  },
  {
   "cell_type": "code",
   "execution_count": null,
   "metadata": {},
   "outputs": [],
   "source": [
    "_,error = generate_dna(n,l,s,filename)"
   ]
  },
  {
   "cell_type": "markdown",
   "metadata": {},
   "source": [
    "Now you can run a simulation on it"
   ]
  },
  {
   "cell_type": "code",
   "execution_count": null,
   "metadata": {
    "ExecuteTime": {
     "end_time": "2020-12-21T06:51:43.556924Z",
     "start_time": "2020-12-21T06:51:43.551065Z"
    },
    "scrolled": true
   },
   "outputs": [],
   "source": [
    "outputFile = filename+\"_sim_output.txt\""
   ]
  },
  {
   "cell_type": "code",
   "execution_count": null,
   "metadata": {},
   "outputs": [],
   "source": [
    "_,error = nupack_spark(filename,True,False,False,'dna_sim_output.txt')"
   ]
  },
  {
   "cell_type": "markdown",
   "metadata": {},
   "source": [
    "Validate Output"
   ]
  },
  {
   "cell_type": "code",
   "execution_count": null,
   "metadata": {},
   "outputs": [],
   "source": [
    "output_file_path = \"dna_sim_output.txt\"\n",
    "\n",
    "with open(test_file_path) as f:\n",
    "    output = f.readlines()\n",
    "output = [l.strip() for l in output]"
   ]
  },
  {
   "cell_type": "markdown",
   "metadata": {},
   "source": [
    "Load validation file"
   ]
  },
  {
   "cell_type": "code",
   "execution_count": null,
   "metadata": {
    "ExecuteTime": {
     "end_time": "2020-12-21T10:08:21.286754Z",
     "start_time": "2020-12-21T10:08:21.242810Z"
    }
   },
   "outputs": [],
   "source": [
    "val_file_path = \"../DataSets/dna_small_sim_output.txt\"\n",
    "\n",
    "with open(val_file_path) as f:\n",
    "    val_output = f.readlines()\n",
    "val_output = [l.strip() for l in val_output]"
   ]
  },
  {
   "cell_type": "code",
   "execution_count": null,
   "metadata": {},
   "outputs": [],
   "source": [
    "Z = zip(output,val_output)\n",
    "\n",
    "comparison = [o == v for o,v in Z]"
   ]
  },
  {
   "cell_type": "markdown",
   "metadata": {},
   "source": [
    "Find any element that is unequal (this should be empty)"
   ]
  },
  {
   "cell_type": "code",
   "execution_count": null,
   "metadata": {},
   "outputs": [],
   "source": [
    "np.where(comparison = False)"
   ]
  }
 ],
 "metadata": {
  "kernelspec": {
   "display_name": "Python 3",
   "language": "python",
   "name": "python3"
  },
  "language_info": {
   "codemirror_mode": {
    "name": "ipython",
    "version": 3
   },
   "file_extension": ".py",
   "mimetype": "text/x-python",
   "name": "python",
   "nbconvert_exporter": "python",
   "pygments_lexer": "ipython3",
   "version": "3.7.4"
  }
 },
 "nbformat": 4,
 "nbformat_minor": 4
}
