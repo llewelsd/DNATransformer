{
 "cells": [
  {
   "cell_type": "markdown",
   "metadata": {},
   "source": [
    "This notebook runs the nupack simulation on provided sequences"
   ]
  },
  {
   "cell_type": "markdown",
   "metadata": {},
   "source": [
    "### Imports"
   ]
  },
  {
   "cell_type": "code",
   "execution_count": 2,
   "metadata": {
    "ExecuteTime": {
     "end_time": "2020-12-21T13:07:54.382096Z",
     "start_time": "2020-12-21T13:07:54.310807Z"
    }
   },
   "outputs": [],
   "source": [
    "import os\n",
    "import subprocess as sub\n",
    "import numpy as np\n",
    "import random as rand"
   ]
  },
  {
   "cell_type": "markdown",
   "metadata": {},
   "source": [
    "### Functions"
   ]
  },
  {
   "cell_type": "code",
   "execution_count": 3,
   "metadata": {
    "ExecuteTime": {
     "end_time": "2020-12-21T13:07:55.626923Z",
     "start_time": "2020-12-21T13:07:55.623994Z"
    }
   },
   "outputs": [],
   "source": [
    "BASES = ['A','T','C','G']"
   ]
  },
  {
   "cell_type": "code",
   "execution_count": 4,
   "metadata": {
    "ExecuteTime": {
     "end_time": "2020-12-21T13:07:55.963867Z",
     "start_time": "2020-12-21T13:07:55.960938Z"
    }
   },
   "outputs": [],
   "source": [
    "def generate_dna(length,number,seed):\n",
    "    rand.seed(seed)\n",
    "    output = [''.join([BASES[rand.randint(0,3)] for j in range(length)]) for i in range(number)]\n",
    "    return output"
   ]
  },
  {
   "cell_type": "code",
   "execution_count": null,
   "metadata": {
    "ExecuteTime": {
     "end_time": "2020-12-21T06:48:08.405579Z",
     "start_time": "2020-12-21T06:48:08.401582Z"
    }
   },
   "outputs": [],
   "source": [
    "def nupack_spark(filename,mfe,pairs,prob,output):\n",
    "    command = ['spark-submit',\n",
    "              '--class','NupackSim',\n",
    "              '--master','local[*]',\n",
    "              'nps.jar']\n",
    "    if mfe:\n",
    "        command.append('-mfe')\n",
    "    if pairs:\n",
    "        command.append('-pp')\n",
    "    if prob:\n",
    "        command.append('-pr')\n",
    "    command.append(output)\n",
    "    command.append('-i')\n",
    "    command.append(filename)\n",
    "    command.append('-o')\n",
    "    command.append(output)\n",
    "    p = sub.Popen(command,stdin=sub.PIPE,stdout=sub.PIPE,stderr=sub.PIPE)\n",
    "    output,error = p.communicate()\n",
    "    print(error)\n",
    "    # due to nature of spark, checking error is meaningless. \n",
    "    # note, may take a while to run depending on input and settings"
   ]
  },
  {
   "cell_type": "markdown",
   "metadata": {},
   "source": [
    "### Main"
   ]
  },
  {
   "cell_type": "markdown",
   "metadata": {},
   "source": [
    "Generate a file containing random sequences of DNA"
   ]
  },
  {
   "cell_type": "code",
   "execution_count": 5,
   "metadata": {
    "ExecuteTime": {
     "end_time": "2020-12-21T13:07:58.779443Z",
     "start_time": "2020-12-21T13:07:58.775536Z"
    }
   },
   "outputs": [],
   "source": [
    "l = 32 # length of each sequence\n",
    "n = 100000 # number of sequences\n",
    "s = 42 # RNG seed\n",
    "\n",
    "filename = 'dna_small.txt'"
   ]
  },
  {
   "cell_type": "code",
   "execution_count": 6,
   "metadata": {
    "ExecuteTime": {
     "end_time": "2020-12-21T13:08:02.844851Z",
     "start_time": "2020-12-21T13:07:59.658401Z"
    }
   },
   "outputs": [],
   "source": [
    "random_dna = generate_dna(l,n,s)\n",
    "with open(filename,'w') as f:\n",
    "    for seq in random_dna:\n",
    "        f.write(seq)\n",
    "        f.write(\"\\n\")"
   ]
  },
  {
   "cell_type": "markdown",
   "metadata": {},
   "source": [
    "Now you can run a simulation on it"
   ]
  },
  {
   "cell_type": "code",
   "execution_count": null,
   "metadata": {
    "ExecuteTime": {
     "end_time": "2020-12-21T06:51:43.556924Z",
     "start_time": "2020-12-21T06:51:43.551065Z"
    },
    "scrolled": true
   },
   "outputs": [],
   "source": [
    "outputFile = filename+\"_sim_output.txt\""
   ]
  },
  {
   "cell_type": "code",
   "execution_count": null,
   "metadata": {},
   "outputs": [],
   "source": [
    "_,error = nupack_spark(filename,True,False,False,'dna_sim_output.txt')"
   ]
  },
  {
   "cell_type": "markdown",
   "metadata": {},
   "source": [
    "Validate Output"
   ]
  },
  {
   "cell_type": "code",
   "execution_count": null,
   "metadata": {},
   "outputs": [],
   "source": [
    "output_file_path = \"dna_sim_output.txt\"\n",
    "\n",
    "with open(test_file_path) as f:\n",
    "    output = f.readlines()\n",
    "output = [l.strip() for l in output]"
   ]
  },
  {
   "cell_type": "markdown",
   "metadata": {},
   "source": [
    "Load validation file"
   ]
  },
  {
   "cell_type": "code",
   "execution_count": null,
   "metadata": {
    "ExecuteTime": {
     "end_time": "2020-12-21T10:08:21.286754Z",
     "start_time": "2020-12-21T10:08:21.242810Z"
    }
   },
   "outputs": [],
   "source": [
    "val_file_path = \"../DataSets/dna_small_sim_output.txt\"\n",
    "\n",
    "with open(val_file_path) as f:\n",
    "    val_output = f.readlines()\n",
    "val_output = [l.strip() for l in val_output]"
   ]
  },
  {
   "cell_type": "code",
   "execution_count": null,
   "metadata": {},
   "outputs": [],
   "source": [
    "Z = zip(output,val_output)\n",
    "\n",
    "comparison = [o == v for o,v in Z]"
   ]
  },
  {
   "cell_type": "markdown",
   "metadata": {},
   "source": [
    "Find any element that is unequal (this should be empty)"
   ]
  },
  {
   "cell_type": "code",
   "execution_count": null,
   "metadata": {},
   "outputs": [],
   "source": [
    "np.where(comparison = False)"
   ]
  }
 ],
 "metadata": {
  "kernelspec": {
   "display_name": "Python 3",
   "language": "python",
   "name": "python3"
  },
  "language_info": {
   "codemirror_mode": {
    "name": "ipython",
    "version": 3
   },
   "file_extension": ".py",
   "mimetype": "text/x-python",
   "name": "python",
   "nbconvert_exporter": "python",
   "pygments_lexer": "ipython3",
   "version": "3.7.4"
  }
 },
 "nbformat": 4,
 "nbformat_minor": 4
}
