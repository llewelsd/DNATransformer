{
 "cells": [
  {
   "cell_type": "markdown",
   "metadata": {},
   "source": [
    "This notebook runs the nupack simulation on provided sequences"
   ]
  },
  {
   "cell_type": "markdown",
   "metadata": {},
   "source": [
    "### Imports"
   ]
  },
  {
   "cell_type": "code",
   "execution_count": 3,
   "metadata": {
    "ExecuteTime": {
     "end_time": "2020-12-21T05:57:52.325853Z",
     "start_time": "2020-12-21T05:57:52.243066Z"
    }
   },
   "outputs": [],
   "source": [
    "import os\n",
    "import subprocess as sub\n",
    "import numpy as np"
   ]
  },
  {
   "cell_type": "markdown",
   "metadata": {},
   "source": [
    "### Functions"
   ]
  },
  {
   "cell_type": "markdown",
   "metadata": {},
   "source": [
    "java -jar DNAG.jar-dna -o dna.txt -s 42 32 100000"
   ]
  },
  {
   "cell_type": "code",
   "execution_count": 5,
   "metadata": {
    "ExecuteTime": {
     "end_time": "2020-12-21T06:33:50.094667Z",
     "start_time": "2020-12-21T06:33:50.089785Z"
    }
   },
   "outputs": [],
   "source": [
    "def generate_dna(length,number,seed,filename):\n",
    "    command = ['java','-jar','DNAG.jar','-dna',\n",
    "               '-o',filename,\n",
    "              '-s',str(seed),\n",
    "              str(length),\n",
    "              str(number)]\n",
    "    p = sub.Popen(command,stdin=sub.PIPE,stdout=sub.PIPE,stderr=sub.PIPE)\n",
    "    output,error = p.communicate()\n",
    "    if len(error) == 0:\n",
    "        return True,error\n",
    "    else:\n",
    "        return False,error"
   ]
  },
  {
   "cell_type": "code",
   "execution_count": 14,
   "metadata": {
    "ExecuteTime": {
     "end_time": "2020-12-21T06:48:08.405579Z",
     "start_time": "2020-12-21T06:48:08.401582Z"
    }
   },
   "outputs": [],
   "source": [
    "def nupack_spark(filename,mfe,pairs,prob,output):\n",
    "    command = ['spark-submit',\n",
    "              '--class','NupackSim',\n",
    "              '--master','local[*]',\n",
    "              'nps.jar']\n",
    "    if mfe:\n",
    "        command.append('-mfe')\n",
    "    if pairs:\n",
    "        command.append('-pp')\n",
    "    if prob:\n",
    "        command.append('-pr')\n",
    "    command.append(output)\n",
    "    command.append('-i')\n",
    "    command.append(filename)\n",
    "    command.append('-o')\n",
    "    command.append(output)\n",
    "    p = sub.Popen(command,stdin=sub.PIPE,stdout=sub.PIPE,stderr=sub.PIPE)\n",
    "    output,error = p.communicate()\n",
    "    print(error)\n",
    "    # due to nature of spark, checking error is meaningless. \n",
    "    # note, may take a while to run depending on input and settings"
   ]
  },
  {
   "cell_type": "markdown",
   "metadata": {},
   "source": [
    "### Main"
   ]
  },
  {
   "cell_type": "markdown",
   "metadata": {},
   "source": [
    "Generate a file containing random sequences of DNA"
   ]
  },
  {
   "cell_type": "code",
   "execution_count": 4,
   "metadata": {
    "ExecuteTime": {
     "end_time": "2020-12-21T06:00:17.862784Z",
     "start_time": "2020-12-21T06:00:17.858877Z"
    }
   },
   "outputs": [],
   "source": [
    "n = 32 # length of each sequence\n",
    "l = 100000 # number of sequences\n",
    "s = 42 # RNG seed\n",
    "\n",
    "filename = 'dna_small.txt'"
   ]
  },
  {
   "cell_type": "code",
   "execution_count": null,
   "metadata": {},
   "outputs": [],
   "source": [
    "_,error = generate_dna(n,l,s,filename)"
   ]
  },
  {
   "cell_type": "markdown",
   "metadata": {},
   "source": [
    "Now you can run a simulation on it"
   ]
  },
  {
   "cell_type": "code",
   "execution_count": 15,
   "metadata": {
    "ExecuteTime": {
     "end_time": "2020-12-21T06:51:43.556924Z",
     "start_time": "2020-12-21T06:51:43.551065Z"
    }
   },
   "outputs": [
    {
     "ename": "NameError",
     "evalue": "name 'filename' is not defined",
     "output_type": "error",
     "traceback": [
      "\u001b[1;31m---------------------------------------------------------------------------\u001b[0m",
      "\u001b[1;31mNameError\u001b[0m                                 Traceback (most recent call last)",
      "\u001b[1;32m<ipython-input-15-00cca8f26168>\u001b[0m in \u001b[0;36m<module>\u001b[1;34m\u001b[0m\n\u001b[1;32m----> 1\u001b[1;33m \u001b[0moutputFile\u001b[0m \u001b[1;33m=\u001b[0m \u001b[0mfilename\u001b[0m\u001b[1;33m+\u001b[0m\u001b[1;34m\"sim_output.txt\"\u001b[0m\u001b[1;33m\u001b[0m\u001b[1;33m\u001b[0m\u001b[0m\n\u001b[0m",
      "\u001b[1;31mNameError\u001b[0m: name 'filename' is not defined"
     ]
    }
   ],
   "source": [
    "outputFile = filename+\"_sim_output.txt\""
   ]
  },
  {
   "cell_type": "code",
   "execution_count": null,
   "metadata": {},
   "outputs": [],
   "source": [
    "_,error = nupack_spark(filename,True,False,False,'dna_2_sim_output.txt')"
   ]
  },
  {
   "cell_type": "markdown",
   "metadata": {},
   "source": [
    "Use Jupyter to verify files are created and correct (if using original parameters, should match the files of same name in /DataSets)"
   ]
  },
  {
   "cell_type": "code",
   "execution_count": null,
   "metadata": {},
   "outputs": [],
   "source": []
  }
 ],
 "metadata": {
  "kernelspec": {
   "display_name": "Python 3",
   "language": "python",
   "name": "python3"
  },
  "language_info": {
   "codemirror_mode": {
    "name": "ipython",
    "version": 3
   },
   "file_extension": ".py",
   "mimetype": "text/x-python",
   "name": "python",
   "nbconvert_exporter": "python",
   "pygments_lexer": "ipython3",
   "version": "3.7.4"
  }
 },
 "nbformat": 4,
 "nbformat_minor": 4
}
